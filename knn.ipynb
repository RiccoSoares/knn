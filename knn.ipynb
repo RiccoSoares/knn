{
  "nbformat": 4,
  "nbformat_minor": 0,
  "metadata": {
    "colab": {
      "name": "knn.ipynb",
      "provenance": []
    },
    "kernelspec": {
      "name": "python3",
      "display_name": "Python 3"
    },
    "language_info": {
      "name": "python"
    }
  },
  "cells": [
    {
      "cell_type": "markdown",
      "source": [
        "###Ricco Vasconcellos Constante Soares\n",
        "\n",
        "###00307968"
      ],
      "metadata": {
        "id": "4phdoeAmOaYP"
      }
    },
    {
      "cell_type": "code",
      "execution_count": 4,
      "metadata": {
        "id": "z0BlzV851GDM"
      },
      "outputs": [],
      "source": [
        "import pandas as pd\n",
        "import random\n",
        "import numpy as np\n",
        "import matplotlib.pyplot as plt"
      ]
    },
    {
      "cell_type": "markdown",
      "source": [
        "#Reading and manipulating the dataset"
      ],
      "metadata": {
        "id": "yGB7cRy7eINK"
      }
    },
    {
      "cell_type": "code",
      "source": [
        "filepth = \"./breast_cancer_data.csv\"\n",
        "dataset = pd.read_csv(filepth)\n",
        "#ignoring the ID column\n",
        "dataset = dataset.iloc[:,1:]"
      ],
      "metadata": {
        "id": "qXT4lSdQ1g8E"
      },
      "execution_count": 5,
      "outputs": []
    },
    {
      "cell_type": "code",
      "source": [
        "dataset"
      ],
      "metadata": {
        "colab": {
          "base_uri": "https://localhost:8080/",
          "height": 424
        },
        "id": "IlfGX4Jf1uCN",
        "outputId": "61575fe3-5130-440c-ac0f-96ee60b8c44e"
      },
      "execution_count": 6,
      "outputs": [
        {
          "output_type": "execute_result",
          "data": {
            "text/plain": [
              "        X2     X3      X4      X5       X6       X7       X8       X9     X10  \\\n",
              "0    17.99  10.38  122.80  1001.0  0.11840  0.27760  0.30010  0.14710  0.2419   \n",
              "1    20.57  17.77  132.90  1326.0  0.08474  0.07864  0.08690  0.07017  0.1812   \n",
              "2    19.69  21.25  130.00  1203.0  0.10960  0.15990  0.19740  0.12790  0.2069   \n",
              "3    11.42  20.38   77.58   386.1  0.14250  0.28390  0.24140  0.10520  0.2597   \n",
              "4    20.29  14.34  135.10  1297.0  0.10030  0.13280  0.19800  0.10430  0.1809   \n",
              "..     ...    ...     ...     ...      ...      ...      ...      ...     ...   \n",
              "564  21.56  22.39  142.00  1479.0  0.11100  0.11590  0.24390  0.13890  0.1726   \n",
              "565  20.13  28.25  131.20  1261.0  0.09780  0.10340  0.14400  0.09791  0.1752   \n",
              "566  16.60  28.08  108.30   858.1  0.08455  0.10230  0.09251  0.05302  0.1590   \n",
              "567  20.60  29.33  140.10  1265.0  0.11780  0.27700  0.35140  0.15200  0.2397   \n",
              "568   7.76  24.54   47.92   181.0  0.05263  0.04362  0.00000  0.00000  0.1587   \n",
              "\n",
              "         X11  ...    X23     X24     X25      X26      X27     X28     X29  \\\n",
              "0    0.07871  ...  17.33  184.60  2019.0  0.16220  0.66560  0.7119  0.2654   \n",
              "1    0.05667  ...  23.41  158.80  1956.0  0.12380  0.18660  0.2416  0.1860   \n",
              "2    0.05999  ...  25.53  152.50  1709.0  0.14440  0.42450  0.4504  0.2430   \n",
              "3    0.09744  ...  26.50   98.87   567.7  0.20980  0.86630  0.6869  0.2575   \n",
              "4    0.05883  ...  16.67  152.20  1575.0  0.13740  0.20500  0.4000  0.1625   \n",
              "..       ...  ...    ...     ...     ...      ...      ...     ...     ...   \n",
              "564  0.05623  ...  26.40  166.10  2027.0  0.14100  0.21130  0.4107  0.2216   \n",
              "565  0.05533  ...  38.25  155.00  1731.0  0.11660  0.19220  0.3215  0.1628   \n",
              "566  0.05648  ...  34.12  126.70  1124.0  0.11390  0.30940  0.3403  0.1418   \n",
              "567  0.07016  ...  39.42  184.60  1821.0  0.16500  0.86810  0.9387  0.2650   \n",
              "568  0.05884  ...  30.37   59.16   268.6  0.08996  0.06444  0.0000  0.0000   \n",
              "\n",
              "        X30      X31  target  \n",
              "0    0.4601  0.11890       1  \n",
              "1    0.2750  0.08902       1  \n",
              "2    0.3613  0.08758       1  \n",
              "3    0.6638  0.17300       1  \n",
              "4    0.2364  0.07678       1  \n",
              "..      ...      ...     ...  \n",
              "564  0.2060  0.07115       1  \n",
              "565  0.2572  0.06637       1  \n",
              "566  0.2218  0.07820       1  \n",
              "567  0.4087  0.12400       1  \n",
              "568  0.2871  0.07039       0  \n",
              "\n",
              "[569 rows x 31 columns]"
            ],
            "text/html": [
              "\n",
              "  <div id=\"df-c81b34cf-c56e-4c42-b5e8-e51204c2b57f\">\n",
              "    <div class=\"colab-df-container\">\n",
              "      <div>\n",
              "<style scoped>\n",
              "    .dataframe tbody tr th:only-of-type {\n",
              "        vertical-align: middle;\n",
              "    }\n",
              "\n",
              "    .dataframe tbody tr th {\n",
              "        vertical-align: top;\n",
              "    }\n",
              "\n",
              "    .dataframe thead th {\n",
              "        text-align: right;\n",
              "    }\n",
              "</style>\n",
              "<table border=\"1\" class=\"dataframe\">\n",
              "  <thead>\n",
              "    <tr style=\"text-align: right;\">\n",
              "      <th></th>\n",
              "      <th>X2</th>\n",
              "      <th>X3</th>\n",
              "      <th>X4</th>\n",
              "      <th>X5</th>\n",
              "      <th>X6</th>\n",
              "      <th>X7</th>\n",
              "      <th>X8</th>\n",
              "      <th>X9</th>\n",
              "      <th>X10</th>\n",
              "      <th>X11</th>\n",
              "      <th>...</th>\n",
              "      <th>X23</th>\n",
              "      <th>X24</th>\n",
              "      <th>X25</th>\n",
              "      <th>X26</th>\n",
              "      <th>X27</th>\n",
              "      <th>X28</th>\n",
              "      <th>X29</th>\n",
              "      <th>X30</th>\n",
              "      <th>X31</th>\n",
              "      <th>target</th>\n",
              "    </tr>\n",
              "  </thead>\n",
              "  <tbody>\n",
              "    <tr>\n",
              "      <th>0</th>\n",
              "      <td>17.99</td>\n",
              "      <td>10.38</td>\n",
              "      <td>122.80</td>\n",
              "      <td>1001.0</td>\n",
              "      <td>0.11840</td>\n",
              "      <td>0.27760</td>\n",
              "      <td>0.30010</td>\n",
              "      <td>0.14710</td>\n",
              "      <td>0.2419</td>\n",
              "      <td>0.07871</td>\n",
              "      <td>...</td>\n",
              "      <td>17.33</td>\n",
              "      <td>184.60</td>\n",
              "      <td>2019.0</td>\n",
              "      <td>0.16220</td>\n",
              "      <td>0.66560</td>\n",
              "      <td>0.7119</td>\n",
              "      <td>0.2654</td>\n",
              "      <td>0.4601</td>\n",
              "      <td>0.11890</td>\n",
              "      <td>1</td>\n",
              "    </tr>\n",
              "    <tr>\n",
              "      <th>1</th>\n",
              "      <td>20.57</td>\n",
              "      <td>17.77</td>\n",
              "      <td>132.90</td>\n",
              "      <td>1326.0</td>\n",
              "      <td>0.08474</td>\n",
              "      <td>0.07864</td>\n",
              "      <td>0.08690</td>\n",
              "      <td>0.07017</td>\n",
              "      <td>0.1812</td>\n",
              "      <td>0.05667</td>\n",
              "      <td>...</td>\n",
              "      <td>23.41</td>\n",
              "      <td>158.80</td>\n",
              "      <td>1956.0</td>\n",
              "      <td>0.12380</td>\n",
              "      <td>0.18660</td>\n",
              "      <td>0.2416</td>\n",
              "      <td>0.1860</td>\n",
              "      <td>0.2750</td>\n",
              "      <td>0.08902</td>\n",
              "      <td>1</td>\n",
              "    </tr>\n",
              "    <tr>\n",
              "      <th>2</th>\n",
              "      <td>19.69</td>\n",
              "      <td>21.25</td>\n",
              "      <td>130.00</td>\n",
              "      <td>1203.0</td>\n",
              "      <td>0.10960</td>\n",
              "      <td>0.15990</td>\n",
              "      <td>0.19740</td>\n",
              "      <td>0.12790</td>\n",
              "      <td>0.2069</td>\n",
              "      <td>0.05999</td>\n",
              "      <td>...</td>\n",
              "      <td>25.53</td>\n",
              "      <td>152.50</td>\n",
              "      <td>1709.0</td>\n",
              "      <td>0.14440</td>\n",
              "      <td>0.42450</td>\n",
              "      <td>0.4504</td>\n",
              "      <td>0.2430</td>\n",
              "      <td>0.3613</td>\n",
              "      <td>0.08758</td>\n",
              "      <td>1</td>\n",
              "    </tr>\n",
              "    <tr>\n",
              "      <th>3</th>\n",
              "      <td>11.42</td>\n",
              "      <td>20.38</td>\n",
              "      <td>77.58</td>\n",
              "      <td>386.1</td>\n",
              "      <td>0.14250</td>\n",
              "      <td>0.28390</td>\n",
              "      <td>0.24140</td>\n",
              "      <td>0.10520</td>\n",
              "      <td>0.2597</td>\n",
              "      <td>0.09744</td>\n",
              "      <td>...</td>\n",
              "      <td>26.50</td>\n",
              "      <td>98.87</td>\n",
              "      <td>567.7</td>\n",
              "      <td>0.20980</td>\n",
              "      <td>0.86630</td>\n",
              "      <td>0.6869</td>\n",
              "      <td>0.2575</td>\n",
              "      <td>0.6638</td>\n",
              "      <td>0.17300</td>\n",
              "      <td>1</td>\n",
              "    </tr>\n",
              "    <tr>\n",
              "      <th>4</th>\n",
              "      <td>20.29</td>\n",
              "      <td>14.34</td>\n",
              "      <td>135.10</td>\n",
              "      <td>1297.0</td>\n",
              "      <td>0.10030</td>\n",
              "      <td>0.13280</td>\n",
              "      <td>0.19800</td>\n",
              "      <td>0.10430</td>\n",
              "      <td>0.1809</td>\n",
              "      <td>0.05883</td>\n",
              "      <td>...</td>\n",
              "      <td>16.67</td>\n",
              "      <td>152.20</td>\n",
              "      <td>1575.0</td>\n",
              "      <td>0.13740</td>\n",
              "      <td>0.20500</td>\n",
              "      <td>0.4000</td>\n",
              "      <td>0.1625</td>\n",
              "      <td>0.2364</td>\n",
              "      <td>0.07678</td>\n",
              "      <td>1</td>\n",
              "    </tr>\n",
              "    <tr>\n",
              "      <th>...</th>\n",
              "      <td>...</td>\n",
              "      <td>...</td>\n",
              "      <td>...</td>\n",
              "      <td>...</td>\n",
              "      <td>...</td>\n",
              "      <td>...</td>\n",
              "      <td>...</td>\n",
              "      <td>...</td>\n",
              "      <td>...</td>\n",
              "      <td>...</td>\n",
              "      <td>...</td>\n",
              "      <td>...</td>\n",
              "      <td>...</td>\n",
              "      <td>...</td>\n",
              "      <td>...</td>\n",
              "      <td>...</td>\n",
              "      <td>...</td>\n",
              "      <td>...</td>\n",
              "      <td>...</td>\n",
              "      <td>...</td>\n",
              "      <td>...</td>\n",
              "    </tr>\n",
              "    <tr>\n",
              "      <th>564</th>\n",
              "      <td>21.56</td>\n",
              "      <td>22.39</td>\n",
              "      <td>142.00</td>\n",
              "      <td>1479.0</td>\n",
              "      <td>0.11100</td>\n",
              "      <td>0.11590</td>\n",
              "      <td>0.24390</td>\n",
              "      <td>0.13890</td>\n",
              "      <td>0.1726</td>\n",
              "      <td>0.05623</td>\n",
              "      <td>...</td>\n",
              "      <td>26.40</td>\n",
              "      <td>166.10</td>\n",
              "      <td>2027.0</td>\n",
              "      <td>0.14100</td>\n",
              "      <td>0.21130</td>\n",
              "      <td>0.4107</td>\n",
              "      <td>0.2216</td>\n",
              "      <td>0.2060</td>\n",
              "      <td>0.07115</td>\n",
              "      <td>1</td>\n",
              "    </tr>\n",
              "    <tr>\n",
              "      <th>565</th>\n",
              "      <td>20.13</td>\n",
              "      <td>28.25</td>\n",
              "      <td>131.20</td>\n",
              "      <td>1261.0</td>\n",
              "      <td>0.09780</td>\n",
              "      <td>0.10340</td>\n",
              "      <td>0.14400</td>\n",
              "      <td>0.09791</td>\n",
              "      <td>0.1752</td>\n",
              "      <td>0.05533</td>\n",
              "      <td>...</td>\n",
              "      <td>38.25</td>\n",
              "      <td>155.00</td>\n",
              "      <td>1731.0</td>\n",
              "      <td>0.11660</td>\n",
              "      <td>0.19220</td>\n",
              "      <td>0.3215</td>\n",
              "      <td>0.1628</td>\n",
              "      <td>0.2572</td>\n",
              "      <td>0.06637</td>\n",
              "      <td>1</td>\n",
              "    </tr>\n",
              "    <tr>\n",
              "      <th>566</th>\n",
              "      <td>16.60</td>\n",
              "      <td>28.08</td>\n",
              "      <td>108.30</td>\n",
              "      <td>858.1</td>\n",
              "      <td>0.08455</td>\n",
              "      <td>0.10230</td>\n",
              "      <td>0.09251</td>\n",
              "      <td>0.05302</td>\n",
              "      <td>0.1590</td>\n",
              "      <td>0.05648</td>\n",
              "      <td>...</td>\n",
              "      <td>34.12</td>\n",
              "      <td>126.70</td>\n",
              "      <td>1124.0</td>\n",
              "      <td>0.11390</td>\n",
              "      <td>0.30940</td>\n",
              "      <td>0.3403</td>\n",
              "      <td>0.1418</td>\n",
              "      <td>0.2218</td>\n",
              "      <td>0.07820</td>\n",
              "      <td>1</td>\n",
              "    </tr>\n",
              "    <tr>\n",
              "      <th>567</th>\n",
              "      <td>20.60</td>\n",
              "      <td>29.33</td>\n",
              "      <td>140.10</td>\n",
              "      <td>1265.0</td>\n",
              "      <td>0.11780</td>\n",
              "      <td>0.27700</td>\n",
              "      <td>0.35140</td>\n",
              "      <td>0.15200</td>\n",
              "      <td>0.2397</td>\n",
              "      <td>0.07016</td>\n",
              "      <td>...</td>\n",
              "      <td>39.42</td>\n",
              "      <td>184.60</td>\n",
              "      <td>1821.0</td>\n",
              "      <td>0.16500</td>\n",
              "      <td>0.86810</td>\n",
              "      <td>0.9387</td>\n",
              "      <td>0.2650</td>\n",
              "      <td>0.4087</td>\n",
              "      <td>0.12400</td>\n",
              "      <td>1</td>\n",
              "    </tr>\n",
              "    <tr>\n",
              "      <th>568</th>\n",
              "      <td>7.76</td>\n",
              "      <td>24.54</td>\n",
              "      <td>47.92</td>\n",
              "      <td>181.0</td>\n",
              "      <td>0.05263</td>\n",
              "      <td>0.04362</td>\n",
              "      <td>0.00000</td>\n",
              "      <td>0.00000</td>\n",
              "      <td>0.1587</td>\n",
              "      <td>0.05884</td>\n",
              "      <td>...</td>\n",
              "      <td>30.37</td>\n",
              "      <td>59.16</td>\n",
              "      <td>268.6</td>\n",
              "      <td>0.08996</td>\n",
              "      <td>0.06444</td>\n",
              "      <td>0.0000</td>\n",
              "      <td>0.0000</td>\n",
              "      <td>0.2871</td>\n",
              "      <td>0.07039</td>\n",
              "      <td>0</td>\n",
              "    </tr>\n",
              "  </tbody>\n",
              "</table>\n",
              "<p>569 rows × 31 columns</p>\n",
              "</div>\n",
              "      <button class=\"colab-df-convert\" onclick=\"convertToInteractive('df-c81b34cf-c56e-4c42-b5e8-e51204c2b57f')\"\n",
              "              title=\"Convert this dataframe to an interactive table.\"\n",
              "              style=\"display:none;\">\n",
              "        \n",
              "  <svg xmlns=\"http://www.w3.org/2000/svg\" height=\"24px\"viewBox=\"0 0 24 24\"\n",
              "       width=\"24px\">\n",
              "    <path d=\"M0 0h24v24H0V0z\" fill=\"none\"/>\n",
              "    <path d=\"M18.56 5.44l.94 2.06.94-2.06 2.06-.94-2.06-.94-.94-2.06-.94 2.06-2.06.94zm-11 1L8.5 8.5l.94-2.06 2.06-.94-2.06-.94L8.5 2.5l-.94 2.06-2.06.94zm10 10l.94 2.06.94-2.06 2.06-.94-2.06-.94-.94-2.06-.94 2.06-2.06.94z\"/><path d=\"M17.41 7.96l-1.37-1.37c-.4-.4-.92-.59-1.43-.59-.52 0-1.04.2-1.43.59L10.3 9.45l-7.72 7.72c-.78.78-.78 2.05 0 2.83L4 21.41c.39.39.9.59 1.41.59.51 0 1.02-.2 1.41-.59l7.78-7.78 2.81-2.81c.8-.78.8-2.07 0-2.86zM5.41 20L4 18.59l7.72-7.72 1.47 1.35L5.41 20z\"/>\n",
              "  </svg>\n",
              "      </button>\n",
              "      \n",
              "  <style>\n",
              "    .colab-df-container {\n",
              "      display:flex;\n",
              "      flex-wrap:wrap;\n",
              "      gap: 12px;\n",
              "    }\n",
              "\n",
              "    .colab-df-convert {\n",
              "      background-color: #E8F0FE;\n",
              "      border: none;\n",
              "      border-radius: 50%;\n",
              "      cursor: pointer;\n",
              "      display: none;\n",
              "      fill: #1967D2;\n",
              "      height: 32px;\n",
              "      padding: 0 0 0 0;\n",
              "      width: 32px;\n",
              "    }\n",
              "\n",
              "    .colab-df-convert:hover {\n",
              "      background-color: #E2EBFA;\n",
              "      box-shadow: 0px 1px 2px rgba(60, 64, 67, 0.3), 0px 1px 3px 1px rgba(60, 64, 67, 0.15);\n",
              "      fill: #174EA6;\n",
              "    }\n",
              "\n",
              "    [theme=dark] .colab-df-convert {\n",
              "      background-color: #3B4455;\n",
              "      fill: #D2E3FC;\n",
              "    }\n",
              "\n",
              "    [theme=dark] .colab-df-convert:hover {\n",
              "      background-color: #434B5C;\n",
              "      box-shadow: 0px 1px 3px 1px rgba(0, 0, 0, 0.15);\n",
              "      filter: drop-shadow(0px 1px 2px rgba(0, 0, 0, 0.3));\n",
              "      fill: #FFFFFF;\n",
              "    }\n",
              "  </style>\n",
              "\n",
              "      <script>\n",
              "        const buttonEl =\n",
              "          document.querySelector('#df-c81b34cf-c56e-4c42-b5e8-e51204c2b57f button.colab-df-convert');\n",
              "        buttonEl.style.display =\n",
              "          google.colab.kernel.accessAllowed ? 'block' : 'none';\n",
              "\n",
              "        async function convertToInteractive(key) {\n",
              "          const element = document.querySelector('#df-c81b34cf-c56e-4c42-b5e8-e51204c2b57f');\n",
              "          const dataTable =\n",
              "            await google.colab.kernel.invokeFunction('convertToInteractive',\n",
              "                                                     [key], {});\n",
              "          if (!dataTable) return;\n",
              "\n",
              "          const docLinkHtml = 'Like what you see? Visit the ' +\n",
              "            '<a target=\"_blank\" href=https://colab.research.google.com/notebooks/data_table.ipynb>data table notebook</a>'\n",
              "            + ' to learn more about interactive tables.';\n",
              "          element.innerHTML = '';\n",
              "          dataTable['output_type'] = 'display_data';\n",
              "          await google.colab.output.renderOutput(dataTable, element);\n",
              "          const docLink = document.createElement('div');\n",
              "          docLink.innerHTML = docLinkHtml;\n",
              "          element.appendChild(docLink);\n",
              "        }\n",
              "      </script>\n",
              "    </div>\n",
              "  </div>\n",
              "  "
            ]
          },
          "metadata": {},
          "execution_count": 6
        }
      ]
    },
    {
      "cell_type": "code",
      "source": [
        "dataset['target']"
      ],
      "metadata": {
        "colab": {
          "base_uri": "https://localhost:8080/",
          "height": 0
        },
        "id": "SJe-qAaJJwQG",
        "outputId": "300b29fc-ed38-4aa0-d3c8-6fd59947dc23"
      },
      "execution_count": 7,
      "outputs": [
        {
          "output_type": "execute_result",
          "data": {
            "text/plain": [
              "0      1\n",
              "1      1\n",
              "2      1\n",
              "3      1\n",
              "4      1\n",
              "      ..\n",
              "564    1\n",
              "565    1\n",
              "566    1\n",
              "567    1\n",
              "568    0\n",
              "Name: target, Length: 569, dtype: int64"
            ]
          },
          "metadata": {},
          "execution_count": 7
        }
      ]
    },
    {
      "cell_type": "code",
      "source": [
        "positiveInstances = dataset.query('target == 1')\n",
        "negativeInstances = dataset.query('target == 0')"
      ],
      "metadata": {
        "id": "C9vHi9aJN60G"
      },
      "execution_count": 8,
      "outputs": []
    },
    {
      "cell_type": "code",
      "source": [
        "print(\"Positive instances:\", len(positiveInstances)/len(dataset))\n",
        "print(\"Negative instances:\", len(negativeInstances)/len(dataset))"
      ],
      "metadata": {
        "colab": {
          "base_uri": "https://localhost:8080/",
          "height": 0
        },
        "id": "SXKz_go8N7s3",
        "outputId": "c3ea748b-2b3e-40f6-c628-6a7685d89e0b"
      },
      "execution_count": 9,
      "outputs": [
        {
          "output_type": "stream",
          "name": "stdout",
          "text": [
            "Positive instances: 0.37258347978910367\n",
            "Negative instances: 0.6274165202108963\n"
          ]
        }
      ]
    },
    {
      "cell_type": "markdown",
      "source": [
        "#Normalizing Data"
      ],
      "metadata": {
        "id": "FXGsxqqN6PHL"
      }
    },
    {
      "cell_type": "code",
      "source": [
        "def normalize(dataset):\n",
        "  return np.divide(dataset, dataset.max())"
      ],
      "metadata": {
        "id": "rY_bE1_q6Ngz"
      },
      "execution_count": 10,
      "outputs": []
    },
    {
      "cell_type": "code",
      "source": [
        "normDataset = normalize(dataset)"
      ],
      "metadata": {
        "id": "Wa23uwW_AS5k"
      },
      "execution_count": 11,
      "outputs": []
    },
    {
      "cell_type": "code",
      "source": [
        "normDataset"
      ],
      "metadata": {
        "colab": {
          "base_uri": "https://localhost:8080/",
          "height": 424
        },
        "id": "uNCGdSLtAwPw",
        "outputId": "facdf841-9af7-4511-becb-2a7a6a82acc2"
      },
      "execution_count": 12,
      "outputs": [
        {
          "output_type": "execute_result",
          "data": {
            "text/plain": [
              "           X2        X3        X4        X5        X6        X7        X8  \\\n",
              "0    0.639986  0.264257  0.651459  0.400240  0.724602  0.803706  0.703140   \n",
              "1    0.731768  0.452393  0.705040  0.530188  0.518605  0.227678  0.203608   \n",
              "2    0.700462  0.540988  0.689655  0.481008  0.670747  0.462942  0.462512   \n",
              "3    0.406261  0.518839  0.411565  0.154378  0.872093  0.821946  0.565604   \n",
              "4    0.721807  0.365071  0.716711  0.518593  0.613831  0.384482  0.463918   \n",
              "..        ...       ...       ...       ...       ...       ...       ...   \n",
              "564  0.766987  0.570010  0.753316  0.591363  0.679315  0.335553  0.571462   \n",
              "565  0.716115  0.719196  0.696021  0.504198  0.598531  0.299363  0.337395   \n",
              "566  0.590537  0.714868  0.574536  0.343103  0.517442  0.296178  0.216753   \n",
              "567  0.732835  0.746690  0.743236  0.505798  0.720930  0.801969  0.823336   \n",
              "568  0.276058  0.624745  0.254218  0.072371  0.322093  0.126288  0.000000   \n",
              "\n",
              "           X9       X10       X11  ...       X23       X24       X25  \\\n",
              "0    0.731113  0.795724  0.807779  ...  0.349818  0.734873  0.474612   \n",
              "1    0.348757  0.596053  0.581589  ...  0.472547  0.632166  0.459803   \n",
              "2    0.635686  0.680592  0.615661  ...  0.515341  0.607086  0.401740   \n",
              "3    0.522863  0.854276  1.000000  ...  0.534921  0.393591  0.133451   \n",
              "4    0.518390  0.595066  0.603756  ...  0.336496  0.605892  0.370240   \n",
              "..        ...       ...       ...  ...       ...       ...       ...   \n",
              "564  0.690358  0.567763  0.577073  ...  0.532903  0.661226  0.476493   \n",
              "565  0.486630  0.576316  0.567837  ...  0.772103  0.617038  0.406911   \n",
              "566  0.263519  0.523026  0.579639  ...  0.688736  0.504379  0.264222   \n",
              "567  0.755467  0.788487  0.720033  ...  0.795721  0.734873  0.428068   \n",
              "568  0.000000  0.522039  0.603859  ...  0.613040  0.235510  0.063141   \n",
              "\n",
              "          X26       X27       X28       X29       X30       X31  target  \n",
              "0    0.728661  0.629112  0.568610  0.912027  0.693130  0.573012     1.0  \n",
              "1    0.556155  0.176371  0.192971  0.639175  0.414281  0.429012     1.0  \n",
              "2    0.648697  0.401229  0.359744  0.835052  0.544290  0.422072     1.0  \n",
              "3    0.942498  0.818809  0.548642  0.884880  1.000000  0.833735     1.0  \n",
              "4    0.617251  0.193762  0.319489  0.558419  0.356131  0.370024     1.0  \n",
              "..        ...       ...       ...       ...       ...       ...     ...  \n",
              "564  0.633423  0.199716  0.328035  0.761512  0.310334  0.342892     1.0  \n",
              "565  0.523810  0.181664  0.256789  0.559450  0.387466  0.319855     1.0  \n",
              "566  0.511680  0.292439  0.271805  0.487285  0.334137  0.376867     1.0  \n",
              "567  0.741240  0.820510  0.749760  0.910653  0.615697  0.597590     1.0  \n",
              "568  0.404133  0.060907  0.000000  0.000000  0.432510  0.339229     0.0  \n",
              "\n",
              "[569 rows x 31 columns]"
            ],
            "text/html": [
              "\n",
              "  <div id=\"df-7af240b4-f146-41c2-8183-762b13f33714\">\n",
              "    <div class=\"colab-df-container\">\n",
              "      <div>\n",
              "<style scoped>\n",
              "    .dataframe tbody tr th:only-of-type {\n",
              "        vertical-align: middle;\n",
              "    }\n",
              "\n",
              "    .dataframe tbody tr th {\n",
              "        vertical-align: top;\n",
              "    }\n",
              "\n",
              "    .dataframe thead th {\n",
              "        text-align: right;\n",
              "    }\n",
              "</style>\n",
              "<table border=\"1\" class=\"dataframe\">\n",
              "  <thead>\n",
              "    <tr style=\"text-align: right;\">\n",
              "      <th></th>\n",
              "      <th>X2</th>\n",
              "      <th>X3</th>\n",
              "      <th>X4</th>\n",
              "      <th>X5</th>\n",
              "      <th>X6</th>\n",
              "      <th>X7</th>\n",
              "      <th>X8</th>\n",
              "      <th>X9</th>\n",
              "      <th>X10</th>\n",
              "      <th>X11</th>\n",
              "      <th>...</th>\n",
              "      <th>X23</th>\n",
              "      <th>X24</th>\n",
              "      <th>X25</th>\n",
              "      <th>X26</th>\n",
              "      <th>X27</th>\n",
              "      <th>X28</th>\n",
              "      <th>X29</th>\n",
              "      <th>X30</th>\n",
              "      <th>X31</th>\n",
              "      <th>target</th>\n",
              "    </tr>\n",
              "  </thead>\n",
              "  <tbody>\n",
              "    <tr>\n",
              "      <th>0</th>\n",
              "      <td>0.639986</td>\n",
              "      <td>0.264257</td>\n",
              "      <td>0.651459</td>\n",
              "      <td>0.400240</td>\n",
              "      <td>0.724602</td>\n",
              "      <td>0.803706</td>\n",
              "      <td>0.703140</td>\n",
              "      <td>0.731113</td>\n",
              "      <td>0.795724</td>\n",
              "      <td>0.807779</td>\n",
              "      <td>...</td>\n",
              "      <td>0.349818</td>\n",
              "      <td>0.734873</td>\n",
              "      <td>0.474612</td>\n",
              "      <td>0.728661</td>\n",
              "      <td>0.629112</td>\n",
              "      <td>0.568610</td>\n",
              "      <td>0.912027</td>\n",
              "      <td>0.693130</td>\n",
              "      <td>0.573012</td>\n",
              "      <td>1.0</td>\n",
              "    </tr>\n",
              "    <tr>\n",
              "      <th>1</th>\n",
              "      <td>0.731768</td>\n",
              "      <td>0.452393</td>\n",
              "      <td>0.705040</td>\n",
              "      <td>0.530188</td>\n",
              "      <td>0.518605</td>\n",
              "      <td>0.227678</td>\n",
              "      <td>0.203608</td>\n",
              "      <td>0.348757</td>\n",
              "      <td>0.596053</td>\n",
              "      <td>0.581589</td>\n",
              "      <td>...</td>\n",
              "      <td>0.472547</td>\n",
              "      <td>0.632166</td>\n",
              "      <td>0.459803</td>\n",
              "      <td>0.556155</td>\n",
              "      <td>0.176371</td>\n",
              "      <td>0.192971</td>\n",
              "      <td>0.639175</td>\n",
              "      <td>0.414281</td>\n",
              "      <td>0.429012</td>\n",
              "      <td>1.0</td>\n",
              "    </tr>\n",
              "    <tr>\n",
              "      <th>2</th>\n",
              "      <td>0.700462</td>\n",
              "      <td>0.540988</td>\n",
              "      <td>0.689655</td>\n",
              "      <td>0.481008</td>\n",
              "      <td>0.670747</td>\n",
              "      <td>0.462942</td>\n",
              "      <td>0.462512</td>\n",
              "      <td>0.635686</td>\n",
              "      <td>0.680592</td>\n",
              "      <td>0.615661</td>\n",
              "      <td>...</td>\n",
              "      <td>0.515341</td>\n",
              "      <td>0.607086</td>\n",
              "      <td>0.401740</td>\n",
              "      <td>0.648697</td>\n",
              "      <td>0.401229</td>\n",
              "      <td>0.359744</td>\n",
              "      <td>0.835052</td>\n",
              "      <td>0.544290</td>\n",
              "      <td>0.422072</td>\n",
              "      <td>1.0</td>\n",
              "    </tr>\n",
              "    <tr>\n",
              "      <th>3</th>\n",
              "      <td>0.406261</td>\n",
              "      <td>0.518839</td>\n",
              "      <td>0.411565</td>\n",
              "      <td>0.154378</td>\n",
              "      <td>0.872093</td>\n",
              "      <td>0.821946</td>\n",
              "      <td>0.565604</td>\n",
              "      <td>0.522863</td>\n",
              "      <td>0.854276</td>\n",
              "      <td>1.000000</td>\n",
              "      <td>...</td>\n",
              "      <td>0.534921</td>\n",
              "      <td>0.393591</td>\n",
              "      <td>0.133451</td>\n",
              "      <td>0.942498</td>\n",
              "      <td>0.818809</td>\n",
              "      <td>0.548642</td>\n",
              "      <td>0.884880</td>\n",
              "      <td>1.000000</td>\n",
              "      <td>0.833735</td>\n",
              "      <td>1.0</td>\n",
              "    </tr>\n",
              "    <tr>\n",
              "      <th>4</th>\n",
              "      <td>0.721807</td>\n",
              "      <td>0.365071</td>\n",
              "      <td>0.716711</td>\n",
              "      <td>0.518593</td>\n",
              "      <td>0.613831</td>\n",
              "      <td>0.384482</td>\n",
              "      <td>0.463918</td>\n",
              "      <td>0.518390</td>\n",
              "      <td>0.595066</td>\n",
              "      <td>0.603756</td>\n",
              "      <td>...</td>\n",
              "      <td>0.336496</td>\n",
              "      <td>0.605892</td>\n",
              "      <td>0.370240</td>\n",
              "      <td>0.617251</td>\n",
              "      <td>0.193762</td>\n",
              "      <td>0.319489</td>\n",
              "      <td>0.558419</td>\n",
              "      <td>0.356131</td>\n",
              "      <td>0.370024</td>\n",
              "      <td>1.0</td>\n",
              "    </tr>\n",
              "    <tr>\n",
              "      <th>...</th>\n",
              "      <td>...</td>\n",
              "      <td>...</td>\n",
              "      <td>...</td>\n",
              "      <td>...</td>\n",
              "      <td>...</td>\n",
              "      <td>...</td>\n",
              "      <td>...</td>\n",
              "      <td>...</td>\n",
              "      <td>...</td>\n",
              "      <td>...</td>\n",
              "      <td>...</td>\n",
              "      <td>...</td>\n",
              "      <td>...</td>\n",
              "      <td>...</td>\n",
              "      <td>...</td>\n",
              "      <td>...</td>\n",
              "      <td>...</td>\n",
              "      <td>...</td>\n",
              "      <td>...</td>\n",
              "      <td>...</td>\n",
              "      <td>...</td>\n",
              "    </tr>\n",
              "    <tr>\n",
              "      <th>564</th>\n",
              "      <td>0.766987</td>\n",
              "      <td>0.570010</td>\n",
              "      <td>0.753316</td>\n",
              "      <td>0.591363</td>\n",
              "      <td>0.679315</td>\n",
              "      <td>0.335553</td>\n",
              "      <td>0.571462</td>\n",
              "      <td>0.690358</td>\n",
              "      <td>0.567763</td>\n",
              "      <td>0.577073</td>\n",
              "      <td>...</td>\n",
              "      <td>0.532903</td>\n",
              "      <td>0.661226</td>\n",
              "      <td>0.476493</td>\n",
              "      <td>0.633423</td>\n",
              "      <td>0.199716</td>\n",
              "      <td>0.328035</td>\n",
              "      <td>0.761512</td>\n",
              "      <td>0.310334</td>\n",
              "      <td>0.342892</td>\n",
              "      <td>1.0</td>\n",
              "    </tr>\n",
              "    <tr>\n",
              "      <th>565</th>\n",
              "      <td>0.716115</td>\n",
              "      <td>0.719196</td>\n",
              "      <td>0.696021</td>\n",
              "      <td>0.504198</td>\n",
              "      <td>0.598531</td>\n",
              "      <td>0.299363</td>\n",
              "      <td>0.337395</td>\n",
              "      <td>0.486630</td>\n",
              "      <td>0.576316</td>\n",
              "      <td>0.567837</td>\n",
              "      <td>...</td>\n",
              "      <td>0.772103</td>\n",
              "      <td>0.617038</td>\n",
              "      <td>0.406911</td>\n",
              "      <td>0.523810</td>\n",
              "      <td>0.181664</td>\n",
              "      <td>0.256789</td>\n",
              "      <td>0.559450</td>\n",
              "      <td>0.387466</td>\n",
              "      <td>0.319855</td>\n",
              "      <td>1.0</td>\n",
              "    </tr>\n",
              "    <tr>\n",
              "      <th>566</th>\n",
              "      <td>0.590537</td>\n",
              "      <td>0.714868</td>\n",
              "      <td>0.574536</td>\n",
              "      <td>0.343103</td>\n",
              "      <td>0.517442</td>\n",
              "      <td>0.296178</td>\n",
              "      <td>0.216753</td>\n",
              "      <td>0.263519</td>\n",
              "      <td>0.523026</td>\n",
              "      <td>0.579639</td>\n",
              "      <td>...</td>\n",
              "      <td>0.688736</td>\n",
              "      <td>0.504379</td>\n",
              "      <td>0.264222</td>\n",
              "      <td>0.511680</td>\n",
              "      <td>0.292439</td>\n",
              "      <td>0.271805</td>\n",
              "      <td>0.487285</td>\n",
              "      <td>0.334137</td>\n",
              "      <td>0.376867</td>\n",
              "      <td>1.0</td>\n",
              "    </tr>\n",
              "    <tr>\n",
              "      <th>567</th>\n",
              "      <td>0.732835</td>\n",
              "      <td>0.746690</td>\n",
              "      <td>0.743236</td>\n",
              "      <td>0.505798</td>\n",
              "      <td>0.720930</td>\n",
              "      <td>0.801969</td>\n",
              "      <td>0.823336</td>\n",
              "      <td>0.755467</td>\n",
              "      <td>0.788487</td>\n",
              "      <td>0.720033</td>\n",
              "      <td>...</td>\n",
              "      <td>0.795721</td>\n",
              "      <td>0.734873</td>\n",
              "      <td>0.428068</td>\n",
              "      <td>0.741240</td>\n",
              "      <td>0.820510</td>\n",
              "      <td>0.749760</td>\n",
              "      <td>0.910653</td>\n",
              "      <td>0.615697</td>\n",
              "      <td>0.597590</td>\n",
              "      <td>1.0</td>\n",
              "    </tr>\n",
              "    <tr>\n",
              "      <th>568</th>\n",
              "      <td>0.276058</td>\n",
              "      <td>0.624745</td>\n",
              "      <td>0.254218</td>\n",
              "      <td>0.072371</td>\n",
              "      <td>0.322093</td>\n",
              "      <td>0.126288</td>\n",
              "      <td>0.000000</td>\n",
              "      <td>0.000000</td>\n",
              "      <td>0.522039</td>\n",
              "      <td>0.603859</td>\n",
              "      <td>...</td>\n",
              "      <td>0.613040</td>\n",
              "      <td>0.235510</td>\n",
              "      <td>0.063141</td>\n",
              "      <td>0.404133</td>\n",
              "      <td>0.060907</td>\n",
              "      <td>0.000000</td>\n",
              "      <td>0.000000</td>\n",
              "      <td>0.432510</td>\n",
              "      <td>0.339229</td>\n",
              "      <td>0.0</td>\n",
              "    </tr>\n",
              "  </tbody>\n",
              "</table>\n",
              "<p>569 rows × 31 columns</p>\n",
              "</div>\n",
              "      <button class=\"colab-df-convert\" onclick=\"convertToInteractive('df-7af240b4-f146-41c2-8183-762b13f33714')\"\n",
              "              title=\"Convert this dataframe to an interactive table.\"\n",
              "              style=\"display:none;\">\n",
              "        \n",
              "  <svg xmlns=\"http://www.w3.org/2000/svg\" height=\"24px\"viewBox=\"0 0 24 24\"\n",
              "       width=\"24px\">\n",
              "    <path d=\"M0 0h24v24H0V0z\" fill=\"none\"/>\n",
              "    <path d=\"M18.56 5.44l.94 2.06.94-2.06 2.06-.94-2.06-.94-.94-2.06-.94 2.06-2.06.94zm-11 1L8.5 8.5l.94-2.06 2.06-.94-2.06-.94L8.5 2.5l-.94 2.06-2.06.94zm10 10l.94 2.06.94-2.06 2.06-.94-2.06-.94-.94-2.06-.94 2.06-2.06.94z\"/><path d=\"M17.41 7.96l-1.37-1.37c-.4-.4-.92-.59-1.43-.59-.52 0-1.04.2-1.43.59L10.3 9.45l-7.72 7.72c-.78.78-.78 2.05 0 2.83L4 21.41c.39.39.9.59 1.41.59.51 0 1.02-.2 1.41-.59l7.78-7.78 2.81-2.81c.8-.78.8-2.07 0-2.86zM5.41 20L4 18.59l7.72-7.72 1.47 1.35L5.41 20z\"/>\n",
              "  </svg>\n",
              "      </button>\n",
              "      \n",
              "  <style>\n",
              "    .colab-df-container {\n",
              "      display:flex;\n",
              "      flex-wrap:wrap;\n",
              "      gap: 12px;\n",
              "    }\n",
              "\n",
              "    .colab-df-convert {\n",
              "      background-color: #E8F0FE;\n",
              "      border: none;\n",
              "      border-radius: 50%;\n",
              "      cursor: pointer;\n",
              "      display: none;\n",
              "      fill: #1967D2;\n",
              "      height: 32px;\n",
              "      padding: 0 0 0 0;\n",
              "      width: 32px;\n",
              "    }\n",
              "\n",
              "    .colab-df-convert:hover {\n",
              "      background-color: #E2EBFA;\n",
              "      box-shadow: 0px 1px 2px rgba(60, 64, 67, 0.3), 0px 1px 3px 1px rgba(60, 64, 67, 0.15);\n",
              "      fill: #174EA6;\n",
              "    }\n",
              "\n",
              "    [theme=dark] .colab-df-convert {\n",
              "      background-color: #3B4455;\n",
              "      fill: #D2E3FC;\n",
              "    }\n",
              "\n",
              "    [theme=dark] .colab-df-convert:hover {\n",
              "      background-color: #434B5C;\n",
              "      box-shadow: 0px 1px 3px 1px rgba(0, 0, 0, 0.15);\n",
              "      filter: drop-shadow(0px 1px 2px rgba(0, 0, 0, 0.3));\n",
              "      fill: #FFFFFF;\n",
              "    }\n",
              "  </style>\n",
              "\n",
              "      <script>\n",
              "        const buttonEl =\n",
              "          document.querySelector('#df-7af240b4-f146-41c2-8183-762b13f33714 button.colab-df-convert');\n",
              "        buttonEl.style.display =\n",
              "          google.colab.kernel.accessAllowed ? 'block' : 'none';\n",
              "\n",
              "        async function convertToInteractive(key) {\n",
              "          const element = document.querySelector('#df-7af240b4-f146-41c2-8183-762b13f33714');\n",
              "          const dataTable =\n",
              "            await google.colab.kernel.invokeFunction('convertToInteractive',\n",
              "                                                     [key], {});\n",
              "          if (!dataTable) return;\n",
              "\n",
              "          const docLinkHtml = 'Like what you see? Visit the ' +\n",
              "            '<a target=\"_blank\" href=https://colab.research.google.com/notebooks/data_table.ipynb>data table notebook</a>'\n",
              "            + ' to learn more about interactive tables.';\n",
              "          element.innerHTML = '';\n",
              "          dataTable['output_type'] = 'display_data';\n",
              "          await google.colab.output.renderOutput(dataTable, element);\n",
              "          const docLink = document.createElement('div');\n",
              "          docLink.innerHTML = docLinkHtml;\n",
              "          element.appendChild(docLink);\n",
              "        }\n",
              "      </script>\n",
              "    </div>\n",
              "  </div>\n",
              "  "
            ]
          },
          "metadata": {},
          "execution_count": 12
        }
      ]
    },
    {
      "cell_type": "markdown",
      "source": [
        "#Train-Test Split"
      ],
      "metadata": {
        "id": "hiNcWEcOeUYl"
      }
    },
    {
      "cell_type": "code",
      "source": [
        "def trainTestSplit(dataset, posInstances, negInstances, trainProp):\n",
        "  trainInstances = pd.DataFrame()\n",
        "\n",
        "  trainPosNum = int(trainProp*len(posInstances))\n",
        "  trainPosInstances = posInstances.sample(n=trainPosNum)\n",
        "\n",
        "  trainNegNum = int(trainProp*len(negInstances))\n",
        "  trainNegInstances = negInstances.sample(n=trainNegNum)\n",
        "\n",
        "  trainInstances = pd.concat([trainPosInstances, trainNegInstances])\n",
        "  testInstances = pd.concat([trainInstances, dataset]).drop_duplicates(keep=False)\n",
        "\n",
        "  return trainInstances, testInstances\n",
        "\n"
      ],
      "metadata": {
        "id": "gE5cqP57avxE"
      },
      "execution_count": 13,
      "outputs": []
    },
    {
      "cell_type": "code",
      "source": [
        "trainInstances, testInstances = trainTestSplit(dataset, positiveInstances, negativeInstances, 0.8)\n",
        "print(\"\")\n",
        "print(\"Training Set Instances: \", len(trainInstances))\n",
        "print(\"Positive Instances: \", len(trainInstances.query('target==1')))\n",
        "print(\"Negative Instances: \", len(trainInstances.query('target==0')))\n",
        "print(\"\")\n",
        "print(\"Test Set Instances: \", len(testInstances))\n",
        "print(\"Positive Instances: \", len(testInstances.query('target==1')))\n",
        "print(\"Negative Instances: \", len(testInstances.query('target==0')))"
      ],
      "metadata": {
        "colab": {
          "base_uri": "https://localhost:8080/",
          "height": 0
        },
        "id": "3Hhc-tzoiE0-",
        "outputId": "8e31806b-0a12-4b3e-a776-03040546a33a"
      },
      "execution_count": 14,
      "outputs": [
        {
          "output_type": "stream",
          "name": "stdout",
          "text": [
            "\n",
            "Training Set Instances:  454\n",
            "Positive Instances:  169\n",
            "Negative Instances:  285\n",
            "\n",
            "Test Set Instances:  115\n",
            "Positive Instances:  43\n",
            "Negative Instances:  72\n"
          ]
        }
      ]
    },
    {
      "cell_type": "code",
      "source": [
        "xTrain = trainInstances.iloc[:,:-1]\n",
        "yTrain = trainInstances.iloc[:,-1:]\n",
        "\n",
        "xTest = testInstances.iloc[:,:-1]\n",
        "yTest = testInstances.iloc[:,-1:]\n",
        "\n",
        "print(\"Train: \", xTrain.shape, yTrain.shape)\n",
        "print(\"Test: \", xTest.shape, yTest.shape)"
      ],
      "metadata": {
        "colab": {
          "base_uri": "https://localhost:8080/",
          "height": 0
        },
        "id": "1tks1KkjSRCB",
        "outputId": "064ee0f3-13e5-4dbe-fdac-b8d54e78bd80"
      },
      "execution_count": 15,
      "outputs": [
        {
          "output_type": "stream",
          "name": "stdout",
          "text": [
            "Train:  (454, 30) (454, 1)\n",
            "Test:  (115, 30) (115, 1)\n"
          ]
        }
      ]
    },
    {
      "cell_type": "markdown",
      "source": [
        "KNN"
      ],
      "metadata": {
        "id": "e6PSBJH0eg7-"
      }
    },
    {
      "cell_type": "code",
      "source": [
        "def majority(array):\n",
        "  posCount = sum(array)\n",
        "  return int(posCount > len(array)/2)\n"
      ],
      "metadata": {
        "id": "Mnw41JXISaMS"
      },
      "execution_count": 16,
      "outputs": []
    },
    {
      "cell_type": "code",
      "source": [
        "def euclidianDistance(fstCoordinates, scndCoordinates):\n",
        "  assert len(fstCoordinates) == len(scndCoordinates)\n",
        "  sum = 0\n",
        "  for i in range(len(fstCoordinates)):\n",
        "    sum += pow((fstCoordinates[i] - scndCoordinates[i]), 2)\n",
        "  return pow(sum, 1/2)\n"
      ],
      "metadata": {
        "id": "5pUjE1_w2Mh2"
      },
      "execution_count": 17,
      "outputs": []
    },
    {
      "cell_type": "code",
      "source": [
        "def knn(n, testSet, trainSet):\n",
        "  assert n <= len(trainSet)\n",
        "  classifications = []\n",
        "  xTest = testInstances.iloc[:,:-1]\n",
        "  yTest = testInstances.iloc[:,-1:]\n",
        "  for instance in testSet:\n",
        "    distances = []\n",
        "    for i in range(len(trainSet)):\n",
        "      distances.append(euclidianDistance(instance, trainSet[i][0:30]))\n",
        "    sortedDistances = sorted(distances)\n",
        "    sortedNeighbors = []\n",
        "    \n",
        "    for x in range(len(sortedDistances)):\n",
        "      for y in range(len(distances)):\n",
        "        if sortedDistances[x] == distances[y]:\n",
        "            sortedNeighbors.append(trainSet[y])\n",
        "\n",
        "    yNeighbors = np.asarray(sortedNeighbors)[:,-1]\n",
        "    chosen = yNeighbors[:n][:]\n",
        "    classifications.append(majority(chosen))\n",
        "  return classifications"
      ],
      "metadata": {
        "id": "8Hzr-XpCgG7x"
      },
      "execution_count": 18,
      "outputs": []
    },
    {
      "cell_type": "code",
      "source": [
        "def calcAccuracy(classifications, yValidation):\n",
        "  assert len(classifications) == len(yValidation)\n",
        "  correct = 0\n",
        "  for i in range(len(classifications)):\n",
        "    if classifications[i] == yValidation[i]:\n",
        "      correct+=1\n",
        "  return correct/len(classifications)\n"
      ],
      "metadata": {
        "id": "t7yIvKSUErx6"
      },
      "execution_count": 19,
      "outputs": []
    },
    {
      "cell_type": "code",
      "source": [
        "testPreds = knn(3, xTest.values, trainInstances.values)\n",
        "print(calcAccuracy(testPreds, yTest.values))"
      ],
      "metadata": {
        "colab": {
          "base_uri": "https://localhost:8080/",
          "height": 0
        },
        "id": "3PjkU3_qgaCz",
        "outputId": "0381ede6-75d0-44d5-fa4c-a03f7f81aea4"
      },
      "execution_count": 20,
      "outputs": [
        {
          "output_type": "stream",
          "name": "stdout",
          "text": [
            "0.8956521739130435\n"
          ]
        }
      ]
    },
    {
      "cell_type": "markdown",
      "source": [
        "#Estimating a good K value"
      ],
      "metadata": {
        "id": "t2TITXipFO_m"
      }
    },
    {
      "cell_type": "code",
      "source": [
        "kValues = [i for i in range(1, 301, 2)]\n",
        "results = []\n",
        "for k in kValues:\n",
        "  pred = knn(k, xTest.values, trainInstances.values)\n",
        "  results.append(calcAccuracy(pred, yTest.values))\n",
        "plt.plot(kValues, results)\n",
        "plt.show()"
      ],
      "metadata": {
        "id": "xzYogADDSDYC",
        "colab": {
          "base_uri": "https://localhost:8080/",
          "height": 265
        },
        "outputId": "9d52e923-1d51-4eaa-f652-97943e9f250a"
      },
      "execution_count": 21,
      "outputs": [
        {
          "output_type": "display_data",
          "data": {
            "text/plain": [
              "<Figure size 432x288 with 1 Axes>"
            ],
            "image/png": "[encoded data removed]"
          },
          "metadata": {
            "needs_background": "light"
          }
        }
      ]
    },
    {
      "cell_type": "code",
      "source": [
        "kValues = [i for i in range(1, 25, 2)]\n",
        "results = []\n",
        "for k in kValues:\n",
        "  pred = knn(k, xTest.values, trainInstances.values)\n",
        "  results.append(calcAccuracy(pred, yTest.values))\n",
        "plt.plot(kValues, results)\n",
        "plt.show()"
      ],
      "metadata": {
        "id": "BZQTBJlGeEbr",
        "colab": {
          "base_uri": "https://localhost:8080/",
          "height": 265
        },
        "outputId": "b73df1f1-50ab-4b3e-c770-07407a8fbee9"
      },
      "execution_count": 22,
      "outputs": [
        {
          "output_type": "display_data",
          "data": {
            "text/plain": [
              "<Figure size 432x288 with 1 Axes>"
            ],
            "image/png": "[encoded data removed]"
          },
          "metadata": {
            "needs_background": "light"
          }
        }
      ]
    },
    {
      "cell_type": "markdown",
      "source": [
        "#Verifying effects of normalization"
      ],
      "metadata": {
        "id": "xA9MWhonFExc"
      }
    },
    {
      "cell_type": "code",
      "source": [
        "xNormTest = normalize(xTest)\n",
        "normTrainInstances = normalize(trainInstances)\n",
        "normPreds = knn(3, xNormTest.values, normTrainInstances.values)\n",
        "print(\"Not normalized data accuracy: \", calcAccuracy(testPreds, yTest.values))\n",
        "print(\"Normalized data accuracy: \", calcAccuracy(normPreds, yTest.values))"
      ],
      "metadata": {
        "id": "5__gqorjiF3g",
        "colab": {
          "base_uri": "https://localhost:8080/"
        },
        "outputId": "6c150e00-e415-4c04-c79f-430573667010"
      },
      "execution_count": null,
      "outputs": [
        {
          "output_type": "stream",
          "name": "stdout",
          "text": [
            "Not normalized data accuracy:  0.9130434782608695\n",
            "Normalized data accuracy:  0.9217391304347826\n"
          ]
        }
      ]
    },
    {
      "cell_type": "code",
      "source": [
        "kValues = [i for i in range(1, 301, 2)]\n",
        "results = []\n",
        "for k in kValues:\n",
        "  pred = knn(k, xNormTest.values, normTrainInstances.values)\n",
        "  results.append(calcAccuracy(pred, yTest.values))\n",
        "plt.plot(kValues, results)\n",
        "plt.show()"
      ],
      "metadata": {
        "colab": {
          "base_uri": "https://localhost:8080/",
          "height": 265
        },
        "id": "IMXKktn5LROF",
        "outputId": "f001db79-1b56-4ab9-b3ed-19b112ff0244"
      },
      "execution_count": null,
      "outputs": [
        {
          "output_type": "display_data",
          "data": {
            "text/plain": [
              "<Figure size 432x288 with 1 Axes>"
            ],
            "image/png": "[encoded data removed]"
          },
          "metadata": {
            "needs_background": "light"
          }
        }
      ]
    },
    {
      "cell_type": "code",
      "source": [
        "kValues = [i for i in range(1, 25, 2)]\n",
        "results = []\n",
        "for k in kValues:\n",
        "  pred = knn(k, xNormTest.values, normTrainInstances.values)\n",
        "  results.append(calcAccuracy(pred, yTest.values))\n",
        "plt.plot(kValues, results)\n",
        "plt.show()"
      ],
      "metadata": {
        "colab": {
          "base_uri": "https://localhost:8080/",
          "height": 265
        },
        "id": "F4WX2uIRMh4L",
        "outputId": "bec809b5-53ed-4c52-a578-b2286c58ffde"
      },
      "execution_count": null,
      "outputs": [
        {
          "output_type": "display_data",
          "data": {
            "text/plain": [
              "<Figure size 432x288 with 1 Axes>"
            ],
            "image/png": "[encoded data removed]"
          },
          "metadata": {
            "needs_background": "light"
          }
        }
      ]
    },
    {
      "cell_type": "markdown",
      "source": [
        "###Checking the difference between min and max values for each column"
      ],
      "metadata": {
        "id": "jdP5za_DqPe_"
      }
    },
    {
      "cell_type": "code",
      "source": [
        "diff = []\n",
        "for column in dataset:\n",
        "  diff.append(dataset[column].max() - dataset[column].min())\n",
        "dFrame = pd.DataFrame(data=diff)\n",
        "print(dFrame)"
      ],
      "metadata": {
        "colab": {
          "base_uri": "https://localhost:8080/",
          "height": 0
        },
        "id": "j2Fa3-mfqQLL",
        "outputId": "070ca0bf-6c7c-44bf-bce3-0d70d03f1138"
      },
      "execution_count": 28,
      "outputs": [
        {
          "output_type": "stream",
          "name": "stdout",
          "text": [
            "              0\n",
            "0     21.129000\n",
            "1     29.570000\n",
            "2    144.710000\n",
            "3   2357.500000\n",
            "4      0.110770\n",
            "5      0.326020\n",
            "6      0.426800\n",
            "7      0.201200\n",
            "8      0.198000\n",
            "9      0.047480\n",
            "10     2.761500\n",
            "11     4.524800\n",
            "12    21.223000\n",
            "13   535.398000\n",
            "14     0.029417\n",
            "15     0.133148\n",
            "16     0.396000\n",
            "17     0.052790\n",
            "18     0.071068\n",
            "19     0.028945\n",
            "20    28.110000\n",
            "21    37.520000\n",
            "22   200.790000\n",
            "23  4068.800000\n",
            "24     0.151430\n",
            "25     1.030710\n",
            "26     1.252000\n",
            "27     0.291000\n",
            "28     0.507300\n",
            "29     0.152460\n",
            "30     1.000000\n"
          ]
        }
      ]
    },
    {
      "cell_type": "markdown",
      "source": [
        "#Answering the proposed questions\n",
        "\n",
        "Observe o intervalo em que varia cada atributo no dado de treinamento:\n",
        "há uma grande diferença entre os valores máximo e mínimo de cada\n",
        "atributo? \n",
        "\n",
        "- A diferença entre os valores máximo e mínimo de cada atributo variam muito consideravelmente, com atributos que apresentam variação da ordem de grandeza de 10^(-2), enquanto outros, da ordem de 10^3.\n",
        "\n",
        "Discuta brevemente sobre a distribuição de valores e como\n",
        "isto pode impactar no processo de tomada de decisão do modelo\n",
        "\n",
        "- A presença de descrepâncias nas variações de cada atributo do conjunto de dados tende a produzir piores resultados na classificação, uma vez que faz com que os atributos que apresentam maior variação dos valores adiquiram maior peso. É justamente por isso que é ideal realizar a normalização dos dados antes da aplicação do algoritmo de KNN.\n",
        "\n",
        "Faça uma avaliação do resultado, brevemente discutindo os achados e\n",
        "se existe alguma tendência ou associação entre desempenho e valor\n",
        "de k.\n",
        "\n",
        "- O valor de k decresce de forma praticamente constante conforme o valor de k cresce para valores de k maiores que 10. Para valores muito altos, é esperado que a classificação piore consideravelmente, uma vez que o classificador passa a classificar a maior parte das instâncias como pertencentes à classe majoritária.\n",
        "\n",
        "Analise e comente se houveram ou não diferenças em relação à taxa de\n",
        "acerto do algoritmo treinado e testado com dados não normalizados. A\n",
        "normalização impactou? De que forma: melhorando ou piorando o\n",
        "desempenho? Esta tendência foi observada para todos os valores de k?\n",
        "\n",
        "- A diferença de desempenho entre os resultados obtidos com e sem normalização é nítida. Para os melhores resultados, observa-se uma melhoria de cerca de 5,56% com a utilização da normalização. O decaimento de acurácia com o crescimento do valor de k teve um comportamento semelhante nos dois casos, mas a acurácia diminuiu até valores proporcionalmente menores no caso em que os dados não foram normalizados."
      ],
      "metadata": {
        "id": "_GDCdVE7OxCf"
      }
    },
    {
      "cell_type": "code",
      "source": [
        ""
      ],
      "metadata": {
        "id": "IWjkAzIaOJzX"
      },
      "execution_count": null,
      "outputs": []
    }
  ]
}